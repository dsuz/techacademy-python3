{
 "cells": [
  {
   "cell_type": "code",
   "execution_count": 2,
   "metadata": {
    "collapsed": true
   },
   "outputs": [],
   "source": [
    "%matplotlib inline\n",
    "import matplotlib.pyplot as plt\n",
    "import numpy as np"
   ]
  },
  {
   "cell_type": "code",
   "execution_count": null,
   "metadata": {},
   "outputs": [],
   "source": [
    "english = np.array([62, 95, 83, 100, 72, 71, 55, 85, 67, 75])\n",
    "math = np.array([62, 80, 85, 95, 58, 76, 52, 84, 67, 71])\n",
    "p = np\n"
   ]
  },
  {
   "cell_type": "code",
   "execution_count": null,
   "metadata": {},
   "outputs": [],
   "source": [
    ".polyfit(english, math, 1)\n",
    "f = np.poly1d(p)\n",
    "\n",
    "plt.plot(english, f(english), color='red', label='lsm')\n",
    "plt.scatter(english, math, color='blue', label='score')\n",
    "plt.legend(loc='upper left')\n"
   ]
  },
  {
   "cell_type": "code",
   "execution_count": 11,
   "metadata": {},
   "outputs": [
    {
     "data": {
      "text/plain": [
       "<matplotlib.legend.Legend at 0x1be8246d8d0>"
      ]
     },
     "execution_count": 11,
     "metadata": {},
     "output_type": "execute_result"
    },
    {
     "data": {
      "image/png": "[encoded data removed]",
      "text/plain": [
       "<matplotlib.figure.Figure at 0x1be822db3c8>"
      ]
     },
     "metadata": {},
     "output_type": "display_data"
    }
   ],
   "source": [
    "# 回答例を踏まえて改良中\n",
    "english = np.array([62, 95, 83, 100, 72, 71, 55, 85, 67, 75])\n",
    "math = np.array([62, 80, 85, 95, 58, 76, 52, 84, 67, 71])\n",
    "\n",
    "a, b = np.polyfit(english, math, 1)\n",
    "f = np.poly1d((a, b))\n",
    "\n",
    "x = np.arange(50, 100)\n",
    "'''\n",
    "eng_and_math = np.concatenate((english, math))\n",
    "x_min = np.amin(eng_and_math)\n",
    "x_max = np.amax(eng_and_math)\n",
    "print(x_min, x_max)\n",
    "x = np.arange(x_min, x_max)\n",
    "'''\n",
    "plt.scatter(english, math, color=\"blue\", label=\"score\")\n",
    "plt.plot(x, f(x), color=\"red\", label=\"lsm\")\n",
    "plt.legend(loc=\"upper left\")"
   ]
  },
  {
   "cell_type": "code",
   "execution_count": null,
   "metadata": {},
   "outputs": [],
   "source": []
  }
 ],
 "metadata": {
  "kernelspec": {
   "display_name": "Python 2",
   "language": "python",
   "name": "python2"
  },
  "language_info": {
   "codemirror_mode": {
    "name": "ipython",
    "version": 2
   },
   "file_extension": ".py",
   "mimetype": "text/x-python",
   "name": "python",
   "nbconvert_exporter": "python",
   "pygments_lexer": "ipython2",
   "version": "2.7.6"
  }
 },
 "nbformat": 4,
 "nbformat_minor": 0
}
